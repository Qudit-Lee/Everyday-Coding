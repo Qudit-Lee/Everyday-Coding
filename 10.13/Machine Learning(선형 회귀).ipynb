{
 "cells": [
  {
   "cell_type": "code",
   "execution_count": 1,
   "id": "3e5bcc5d",
   "metadata": {},
   "outputs": [],
   "source": [
    "import mglearn\n",
    "from sklearn.linear_model import LinearRegression\n",
    "from sklearn.model_selection import train_test_split"
   ]
  },
  {
   "cell_type": "code",
   "execution_count": 2,
   "id": "c78f1561",
   "metadata": {},
   "outputs": [],
   "source": [
    "x,y= mglearn.datasets.make_wave(n_samples= 60)"
   ]
  },
  {
   "cell_type": "code",
   "execution_count": 3,
   "id": "4d1765dc",
   "metadata": {},
   "outputs": [],
   "source": [
    "x_train, x_test, y_train, y_test= train_test_split(x, y,\n",
    "                                                   random_state= 0)"
   ]
  },
  {
   "cell_type": "code",
   "execution_count": 4,
   "id": "2565aad3",
   "metadata": {},
   "outputs": [],
   "source": [
    "lr= LinearRegression()"
   ]
  },
  {
   "cell_type": "code",
   "execution_count": 5,
   "id": "2dcf82db",
   "metadata": {},
   "outputs": [
    {
     "data": {
      "text/plain": [
       "LinearRegression()"
      ]
     },
     "execution_count": 5,
     "metadata": {},
     "output_type": "execute_result"
    }
   ],
   "source": [
    "lr.fit(x_train, y_train)"
   ]
  },
  {
   "cell_type": "code",
   "execution_count": 6,
   "id": "22a4c0ca",
   "metadata": {},
   "outputs": [
    {
     "data": {
      "text/plain": [
       "array([0.44153666])"
      ]
     },
     "execution_count": 6,
     "metadata": {},
     "output_type": "execute_result"
    }
   ],
   "source": [
    "lr.coef_"
   ]
  },
  {
   "cell_type": "code",
   "execution_count": 7,
   "id": "863add56",
   "metadata": {},
   "outputs": [
    {
     "data": {
      "text/plain": [
       "-0.01711124414733381"
      ]
     },
     "execution_count": 7,
     "metadata": {},
     "output_type": "execute_result"
    }
   ],
   "source": [
    "lr.intercept_"
   ]
  },
  {
   "cell_type": "markdown",
   "id": "4f58378f",
   "metadata": {},
   "source": [
    "### y= 0.4415x - 0.01711"
   ]
  },
  {
   "cell_type": "code",
   "execution_count": 8,
   "id": "d18f691b",
   "metadata": {},
   "outputs": [],
   "source": [
    "train= lr.score(x_train, y_train)\n",
    "test= lr.score(x_test, y_test)"
   ]
  },
  {
   "cell_type": "code",
   "execution_count": 9,
   "id": "dd1521b0",
   "metadata": {},
   "outputs": [
    {
     "name": "stdout",
     "output_type": "stream",
     "text": [
      "훈련 데이터 점수:  0.6592061059587275\n",
      "테스트 데이터 점수:  0.6932519118518163\n"
     ]
    }
   ],
   "source": [
    "print('훈련 데이터 점수: ', train)\n",
    "print('테스트 데이터 점수: ', test)"
   ]
  },
  {
   "cell_type": "markdown",
   "id": "5286ba69",
   "metadata": {},
   "source": [
    "### 보스턴 주택 가격 -  선형 회귀"
   ]
  },
  {
   "cell_type": "code",
   "execution_count": 10,
   "id": "06ee2a9b",
   "metadata": {},
   "outputs": [],
   "source": [
    "import warnings\n",
    "warnings.filterwarnings('ignore', category= FutureWarning)"
   ]
  },
  {
   "cell_type": "code",
   "execution_count": 11,
   "id": "b1ee03d9",
   "metadata": {},
   "outputs": [],
   "source": [
    "x,y= mglearn.datasets.load_extended_boston()"
   ]
  },
  {
   "cell_type": "code",
   "execution_count": 12,
   "id": "fa8cd106",
   "metadata": {},
   "outputs": [],
   "source": [
    "x_train, x_test, y_train, y_test= train_test_split(x, y,\n",
    "                                                   test_size= 0.2,\n",
    "                                                   random_state= 0)"
   ]
  },
  {
   "cell_type": "code",
   "execution_count": 13,
   "id": "58a20741",
   "metadata": {},
   "outputs": [],
   "source": [
    "lr= LinearRegression().fit(x_train, y_train)"
   ]
  },
  {
   "cell_type": "code",
   "execution_count": 14,
   "id": "640ac9ab",
   "metadata": {},
   "outputs": [],
   "source": [
    "train= lr.score(x_train, y_train)\n",
    "test= lr.score(x_test, y_test)"
   ]
  },
  {
   "cell_type": "code",
   "execution_count": 15,
   "id": "d811a49e",
   "metadata": {},
   "outputs": [
    {
     "name": "stdout",
     "output_type": "stream",
     "text": [
      "훈련 데이터 점수:  0.9490240966612832\n",
      "테스트 데이터 점수:  0.615885858407885\n"
     ]
    }
   ],
   "source": [
    "print('훈련 데이터 점수: ', train) # 즉 과대접합임을 증명\n",
    "print('테스트 데이터 점수: ', test) # 오차"
   ]
  },
  {
   "cell_type": "markdown",
   "id": "7e5f1b5c",
   "metadata": {},
   "source": [
    "### Ridge(L2) 회귀"
   ]
  },
  {
   "cell_type": "code",
   "execution_count": 16,
   "id": "9e6319aa",
   "metadata": {},
   "outputs": [],
   "source": [
    "from sklearn.linear_model import Ridge"
   ]
  },
  {
   "cell_type": "code",
   "execution_count": 17,
   "id": "42ddb97f",
   "metadata": {},
   "outputs": [],
   "source": [
    "ridge= Ridge().fit(x_train, y_train)"
   ]
  },
  {
   "cell_type": "code",
   "execution_count": 18,
   "id": "0baa0048",
   "metadata": {},
   "outputs": [],
   "source": [
    "train= ridge.score(x_train, y_train)\n",
    "test= ridge.score(x_test, y_test)"
   ]
  },
  {
   "cell_type": "code",
   "execution_count": 19,
   "id": "c355f999",
   "metadata": {},
   "outputs": [
    {
     "name": "stdout",
     "output_type": "stream",
     "text": [
      "훈련 데이터 점수:  0.8858089292103583\n",
      "테스트 데이터 점수:  0.7214499108060967\n"
     ]
    }
   ],
   "source": [
    "print('훈련 데이터 점수: ', train)\n",
    "print('테스트 데이터 점수: ', test)"
   ]
  },
  {
   "cell_type": "code",
   "execution_count": 20,
   "id": "148c4a34",
   "metadata": {},
   "outputs": [],
   "source": [
    "ridge10= Ridge(alpha= 10).fit(x_train, y_train)"
   ]
  },
  {
   "cell_type": "code",
   "execution_count": 21,
   "id": "57f562ce",
   "metadata": {},
   "outputs": [],
   "source": [
    "train10= ridge10.score(x_train, y_train)\n",
    "test10= ridge10.score(x_test, y_test)"
   ]
  },
  {
   "cell_type": "code",
   "execution_count": 22,
   "id": "b2720abd",
   "metadata": {
    "scrolled": true
   },
   "outputs": [
    {
     "name": "stdout",
     "output_type": "stream",
     "text": [
      "훈련 데이터 점수:  0.7934484752213662\n",
      "테스트 데이터 점수:  0.5886807784434768\n"
     ]
    }
   ],
   "source": [
    "print('훈련 데이터 점수: ', train10)\n",
    "print('테스트 데이터 점수: ', test10)"
   ]
  },
  {
   "cell_type": "code",
   "execution_count": 23,
   "id": "db2a2973",
   "metadata": {},
   "outputs": [],
   "source": [
    "ridge01= Ridge(alpha= 0.1).fit(x_train, y_train)"
   ]
  },
  {
   "cell_type": "code",
   "execution_count": 24,
   "id": "3d318eb4",
   "metadata": {},
   "outputs": [],
   "source": [
    "train01= ridge01.score(x_train, y_train)\n",
    "test01= ridge01.score(x_test, y_test)"
   ]
  },
  {
   "cell_type": "code",
   "execution_count": 25,
   "id": "c228726f",
   "metadata": {},
   "outputs": [
    {
     "name": "stdout",
     "output_type": "stream",
     "text": [
      "훈련 데이터 점수:  0.9261926604874957\n",
      "테스트 데이터 점수:  0.7463824108919292\n"
     ]
    }
   ],
   "source": [
    "print('훈련 데이터 점수: ', train01)\n",
    "print('테스트 데이터 점수: ', test01)"
   ]
  },
  {
   "cell_type": "markdown",
   "id": "3530e36c",
   "metadata": {},
   "source": [
    "### Lasso(L1) 회귀"
   ]
  },
  {
   "cell_type": "code",
   "execution_count": 26,
   "id": "a8f77ca5",
   "metadata": {},
   "outputs": [],
   "source": [
    "import numpy as np\n",
    "from sklearn.linear_model import Lasso"
   ]
  },
  {
   "cell_type": "code",
   "execution_count": 27,
   "id": "468016e4",
   "metadata": {},
   "outputs": [],
   "source": [
    "lasso= Lasso().fit(x_train, y_train)"
   ]
  },
  {
   "cell_type": "code",
   "execution_count": 28,
   "id": "e9c13ec8",
   "metadata": {},
   "outputs": [],
   "source": [
    "train= lasso.score(x_train, y_train)\n",
    "test= lasso.score(x_test, y_test)"
   ]
  },
  {
   "cell_type": "code",
   "execution_count": 29,
   "id": "0258eb33",
   "metadata": {},
   "outputs": [
    {
     "name": "stdout",
     "output_type": "stream",
     "text": [
      "훈련 데이터 점수:  0.30173392764195583\n",
      "테스트 데이터 점수:  0.18559880937915907\n"
     ]
    }
   ],
   "source": [
    "print('훈련 데이터 점수: ', train)\n",
    "print('테스트 데이터 점수: ', test)"
   ]
  },
  {
   "cell_type": "code",
   "execution_count": 30,
   "id": "6af758c2",
   "metadata": {},
   "outputs": [
    {
     "name": "stdout",
     "output_type": "stream",
     "text": [
      "사용한 특성의 개수:  4\n"
     ]
    }
   ],
   "source": [
    "print('사용한 특성의 개수: ', np.sum(lasso.coef_!= 0))"
   ]
  },
  {
   "cell_type": "code",
   "execution_count": 31,
   "id": "93aa1056",
   "metadata": {},
   "outputs": [],
   "source": [
    "lasso001= Lasso(alpha= 0.01, max_iter= 10000).fit(x_train, y_train) \n",
    "# max_iter= 몇 번 학습시킬지 지정하는 함수"
   ]
  },
  {
   "cell_type": "code",
   "execution_count": 32,
   "id": "e0722403",
   "metadata": {},
   "outputs": [],
   "source": [
    "train= lasso001.score(x_train, y_train)\n",
    "test= lasso001.score(x_test, y_test)"
   ]
  },
  {
   "cell_type": "code",
   "execution_count": 33,
   "id": "270b5a32",
   "metadata": {},
   "outputs": [
    {
     "name": "stdout",
     "output_type": "stream",
     "text": [
      "훈련 데이터 점수:  0.8940116521466668\n",
      "테스트 데이터 점수:  0.7360953366341125\n"
     ]
    }
   ],
   "source": [
    "print('훈련 데이터 점수: ', train)\n",
    "print('테스트 데이터 점수: ', test)"
   ]
  },
  {
   "cell_type": "code",
   "execution_count": 34,
   "id": "14eb208a",
   "metadata": {},
   "outputs": [
    {
     "name": "stdout",
     "output_type": "stream",
     "text": [
      "사용한 특성의 개수:  34\n"
     ]
    }
   ],
   "source": [
    "print('사용한 특성의 개수: ', np.sum(lasso001.coef_!= 0))"
   ]
  },
  {
   "cell_type": "code",
   "execution_count": 35,
   "id": "5ae38966",
   "metadata": {},
   "outputs": [
    {
     "name": "stderr",
     "output_type": "stream",
     "text": [
      "C:\\Users\\user\\anaconda3\\lib\\site-packages\\sklearn\\linear_model\\_coordinate_descent.py:647: ConvergenceWarning: Objective did not converge. You might want to increase the number of iterations, check the scale of the features or consider increasing regularisation. Duality gap: 3.481e+00, tolerance: 3.440e+00\n",
      "  model = cd_fast.enet_coordinate_descent(\n"
     ]
    }
   ],
   "source": [
    "lasso00001= Lasso(alpha= 0.0001, max_iter= 50000).fit(x_train, y_train) "
   ]
  },
  {
   "cell_type": "code",
   "execution_count": 36,
   "id": "40af8da7",
   "metadata": {},
   "outputs": [],
   "source": [
    "train= lasso00001.score(x_train, y_train)\n",
    "test= lasso00001.score(x_test, y_test)"
   ]
  },
  {
   "cell_type": "code",
   "execution_count": 37,
   "id": "16912817",
   "metadata": {},
   "outputs": [
    {
     "name": "stdout",
     "output_type": "stream",
     "text": [
      "훈련 데이터 점수:  0.9478035785798402\n",
      "테스트 데이터 점수:  0.6453342633073322\n"
     ]
    }
   ],
   "source": [
    "print('훈련 데이터 점수: ', train)\n",
    "print('테스트 데이터 점수: ', test)"
   ]
  },
  {
   "cell_type": "code",
   "execution_count": 38,
   "id": "5ea43d83",
   "metadata": {},
   "outputs": [
    {
     "name": "stdout",
     "output_type": "stream",
     "text": [
      "사용한 특성의 개수:  96\n"
     ]
    }
   ],
   "source": [
    "print('사용한 특성의 개수: ', np.sum(lasso00001.coef_!= 0))"
   ]
  },
  {
   "cell_type": "code",
   "execution_count": null,
   "id": "73db1e98",
   "metadata": {},
   "outputs": [],
   "source": []
  }
 ],
 "metadata": {
  "kernelspec": {
   "display_name": "Python 3 (ipykernel)",
   "language": "python",
   "name": "python3"
  },
  "language_info": {
   "codemirror_mode": {
    "name": "ipython",
    "version": 3
   },
   "file_extension": ".py",
   "mimetype": "text/x-python",
   "name": "python",
   "nbconvert_exporter": "python",
   "pygments_lexer": "ipython3",
   "version": "3.9.12"
  }
 },
 "nbformat": 4,
 "nbformat_minor": 5
}
