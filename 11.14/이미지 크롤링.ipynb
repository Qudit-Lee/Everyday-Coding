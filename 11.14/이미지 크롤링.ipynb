{
 "cells": [
  {
   "cell_type": "markdown",
   "id": "f04b4af0",
   "metadata": {},
   "source": [
    "!pip install selenium\n",
    "!pip install webdriver-manager"
   ]
  },
  {
   "cell_type": "code",
   "execution_count": 1,
   "id": "99003a15",
   "metadata": {},
   "outputs": [],
   "source": [
    "from webdriver_manager.chrome import ChromeDriverManager\n",
    "from selenium import webdriver"
   ]
  },
  {
   "cell_type": "markdown",
   "id": "6fd726ba",
   "metadata": {},
   "source": [
    "webdriver 구글 크롬 연결"
   ]
  },
  {
   "cell_type": "code",
   "execution_count": 2,
   "id": "20e65f3d",
   "metadata": {},
   "outputs": [],
   "source": [
    "# 구글 크롬 연결\n",
    "driver= webdriver.Chrome(ChromeDriverManager().install())\n",
    "\n",
    "URL= 'https://www.google.co.kr/imghp'\n",
    "driver.get(url= URL)\n",
    "\n",
    "driver.implicitly_wait(time_to_wait= 10)"
   ]
  },
  {
   "cell_type": "markdown",
   "id": "6bcb1040",
   "metadata": {},
   "source": [
    "이미지 검색 키워드 설정"
   ]
  },
  {
   "cell_type": "code",
   "execution_count": 3,
   "id": "8bac0a53",
   "metadata": {},
   "outputs": [],
   "source": [
    "from selenium.webdriver.common.keys import Keys"
   ]
  },
  {
   "cell_type": "markdown",
   "id": "99dc45c1",
   "metadata": {},
   "source": [
    "#팝업창 닫기\n",
    "popup= driver.find_element_by_css_selector(\"//*[@id='yDmH0d']/c-wiz/div/div/c-wiz/div/div/div/div[2]/div[2]/button\")\n",
    "popup.click()"
   ]
  },
  {
   "cell_type": "code",
   "execution_count": 4,
   "id": "1cf6e920",
   "metadata": {
    "scrolled": true
   },
   "outputs": [],
   "source": [
    "elem= driver.find_element_by_css_selector('body > div.L3eUgb > div.o3j99.ikrT4e.om7nvf > form > div:nth-child(1) > div.A8SBwf > div.RNNXgb > div > div.a4bIc > input')\n",
    "elem.send_keys('바다')\n",
    "elem.send_keys(Keys.RETURN)"
   ]
  },
  {
   "cell_type": "code",
   "execution_count": null,
   "id": "7bc8175d",
   "metadata": {},
   "outputs": [],
   "source": []
  }
 ],
 "metadata": {
  "hide_input": false,
  "kernelspec": {
   "display_name": "Python 3 (ipykernel)",
   "language": "python",
   "name": "python3"
  },
  "language_info": {
   "codemirror_mode": {
    "name": "ipython",
    "version": 3
   },
   "file_extension": ".py",
   "mimetype": "text/x-python",
   "name": "python",
   "nbconvert_exporter": "python",
   "pygments_lexer": "ipython3",
   "version": "3.9.12"
  }
 },
 "nbformat": 4,
 "nbformat_minor": 5
}
